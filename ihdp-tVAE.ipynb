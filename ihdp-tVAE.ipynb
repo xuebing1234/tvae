{
 "cells": [
  {
   "cell_type": "code",
   "execution_count": 2,
   "id": "3ae23b04-8bd7-4555-be04-c4c4d360b172",
   "metadata": {
    "tags": []
   },
   "outputs": [],
   "source": [
    "import math\n",
    "import numpy as np\n",
    "import pandas as pd\n",
    "import torch\n",
    "import torch.distributions as td\n",
    "from torch import nn, optim\n",
    "from torch.nn import functional as F\n",
    "from tqdm import tqdm\n",
    "from tqdm.auto import trange\n",
    "import matplotlib.pyplot as plt\n",
    "from torch.utils.data import DataLoader, random_split\n",
    "from sklearn.metrics import roc_auc_score, average_precision_score\n",
    "from sklearn.metrics import mean_squared_error \n",
    "from SinkhornDistance import SinkhornDistance\n",
    "from utils import *\n",
    "\n",
    "        "
   ]
  },
  {
   "cell_type": "code",
   "execution_count": 3,
   "id": "a6313a1e-e075-4a84-b698-cd6dff84bd3b",
   "metadata": {
    "tags": []
   },
   "outputs": [],
   "source": [
    "import pandas as pd\n",
    "import numpy as np\n",
    "from tqdm import tqdm\n",
    "path = 'csv_files/' #path of IHDP files, downloaded from https://www.fredjo.com/\n",
    "def processed_data(i):\n",
    "    train_data = pd.read_csv(path+'1000_train'+str(i)+'.csv').values\n",
    "    train_data[:,13] = train_data[:,13]-1 #processing according to CEVAE\n",
    "    test_data = pd.read_csv(path+'1000_test'+str(i)+'.csv').values\n",
    "    test_data[:,13] = test_data[:,13]-1 #processing according to CEVAE\n",
    "    train_label = np.zeros((len(train_data),3))\n",
    "    t= pd.read_csv(path+'1000_train_t'+str(i)+'.csv').values.flatten()\n",
    "    train_label[:,0] = t\n",
    "    yf = pd.read_csv(path+'1000_train_yf'+str(i)+'.csv').values.flatten()\n",
    "    ycf = pd.read_csv(path+'1000_train_ycf'+str(i)+'.csv').values.flatten()\n",
    "    train_label[:,1] = np.where(t==1,yf, ycf) #treatment effect\n",
    "    train_label[:,2] = np.where(t==0,yf, ycf) #non-treatment effect\n",
    "    train_ite = np.zeros((len(train_data),1))\n",
    "    train_ite = np.where(t==1,yf-ycf, ycf-yf)\n",
    "    ite_test = pd.read_csv(path+'1000_test_ite'+str(i)+'.csv').values\n",
    "    train_eval_split = int(0.8*len(train_data))\n",
    "    indices = np.random.permutation(train_data.shape[0])\n",
    "    training_idx, eval_idx = indices[:train_eval_split], indices[train_eval_split:]\n",
    "    return train_data[training_idx,:],test_data,train_label[training_idx,:],\\\n",
    "            train_data[eval_idx,:],train_ite[training_idx],train_ite[eval_idx], \\\n",
    "            ite_test\n",
    "    "
   ]
  },
  {
   "cell_type": "code",
   "execution_count": 4,
   "id": "769420f5-c382-4eea-8227-78e9158a212b",
   "metadata": {},
   "outputs": [],
   "source": [
    "#specify the GPU (or CPU)\n",
    "device = torch.device(\"cuda:1\" if torch.cuda.is_available() else \"cpu\")\n",
    "\n",
    "VAE = DisentangledVAE(n_epochs=150, number_of_labels=3,input_dimension =25 ,\n",
    "                      latent_dimension = 10, \n",
    "                      hidden_layer_width=500,device=device)\n",
    "VAE.batch_size=32\n",
    "VAE.optimizer = optim.Adam(\n",
    "    list(VAE.encoder.parameters()) + list(VAE.decoder.parameters()), lr=1e-4\n",
    "    # ,weight_decay=1e-5\n",
    ")\n",
    "#prediction loss\n",
    "VAE.pred_weight = [1,1]\n",
    "# KL loss\n",
    "VAE.KL_weight=1\n",
    "#TC loss\n",
    "VAE.beta = .1\n",
    "#mmd loss\n",
    "VAE.gamma=.1\n",
    "VAE.plot=False\n",
    "#recon loss\n",
    "VAE.recon_weight = .1\n",
    "\n",
    "#early stopping for model training\n",
    "VAE.early_stopper = EarlyStopper(patience=4, min_delta=0.05)"
   ]
  },
  {
   "cell_type": "code",
   "execution_count": 5,
   "id": "63e35a55-3e71-4f10-8574-d180a0c78a99",
   "metadata": {
    "tags": []
   },
   "outputs": [
    {
     "data": {
      "application/json": {
       "ascii": false,
       "bar_format": null,
       "colour": null,
       "elapsed": 0.009918451309204102,
       "initial": 0,
       "n": 0,
       "ncols": null,
       "nrows": 24,
       "postfix": null,
       "prefix": "replication",
       "rate": null,
       "total": 1000,
       "unit": "it",
       "unit_divisor": 1000,
       "unit_scale": false
      },
      "application/vnd.jupyter.widget-view+json": {
       "model_id": "1e0b41810c8243ecaaf909eaa6064049",
       "version_major": 2,
       "version_minor": 0
      },
      "text/plain": [
       "replication:   0%|          | 0/1000 [00:00<?, ?it/s]"
      ]
     },
     "metadata": {},
     "output_type": "display_data"
    },
    {
     "name": "stdout",
     "output_type": "stream",
     "text": [
      "0 0.36673075087048973\n",
      "20 1.0721320370996037\n",
      "40 1.3064795979319856\n",
      "60 1.1608240313907012\n",
      "80 1.1163837855163026\n",
      "100 1.1904657508623415\n",
      "120 1.1690790698804232\n",
      "140 1.1720435323176737\n",
      "160 1.157853035685819\n",
      "180 1.1205391696619005\n",
      "200 1.0802124438247944\n",
      "220 1.097973141688663\n",
      "240 1.0771746578315031\n",
      "260 1.08160120443023\n",
      "280 1.0683882011764099\n",
      "300 1.058945218057044\n",
      "320 1.0678927871022812\n",
      "340 1.0908179772283049\n",
      "360 1.1241088614522767\n",
      "380 1.1131061030075724\n",
      "400 1.1146458952685374\n",
      "420 1.109792992338218\n",
      "440 1.1161702199165142\n",
      "460 1.1047634975523093\n",
      "480 1.1178940265120145\n",
      "500 1.1046351543822504\n",
      "520 1.11288130100727\n",
      "540 1.1032957427532541\n",
      "560 1.094191545426488\n",
      "580 1.0908665840341385\n",
      "600 1.110925355173489\n",
      "620 1.1088563275417196\n",
      "640 1.11000388824785\n",
      "660 1.1269817487752671\n",
      "680 1.133489319041317\n",
      "700 1.1328883633227878\n",
      "720 1.12911863721639\n",
      "740 1.1291287195319482\n",
      "760 1.128368667748966\n",
      "780 1.1431606589010046\n",
      "800 1.1460850674714804\n",
      "820 1.155770185142447\n",
      "840 1.159343890296177\n",
      "860 1.1559782906990794\n",
      "880 1.1552703059334415\n",
      "900 1.15681888654762\n",
      "920 1.1562709998428329\n",
      "940 1.161732001280669\n",
      "960 1.1652330672578992\n",
      "980 1.1724685041190335\n"
     ]
    }
   ],
   "source": [
    "train_losses=[]\n",
    "eval_losses=[]\n",
    "test_losses=[]\n",
    "\n",
    "#in this demo, we take all 1000 replications\n",
    "for i in trange(1000, position=0, desc=\"replication\", leave=True, colour='black',):\n",
    "    train_data,test_data,train_label,eval_data, ite_train, ite_eval,ite_test = processed_data(i)   \n",
    "    VAE.wasserstein = 1\n",
    "    VAE.pred_weight[0] =min(1, 0.1*train_label[train_label[:,0]==1,1].std())\n",
    "    VAE.pred_weight[1] =min(1, 0.1*train_label[train_label[:,0]==0,2].std())\n",
    "    VAE.early_stopper = EarlyStopper(patience=3, min_delta=0.05)\n",
    "    score_train,score_eval,test_score = VAE.trainer(train_data,test_data,train_label,\n",
    "                                                    eval_data, ite_train, ite_eval,\n",
    "                                                    ite_test)\n",
    "    train_losses.append(score_train)\n",
    "    eval_losses.append(score_eval)\n",
    "    test_losses.append(test_score)\n",
    "    if i%20==0:\n",
    "        print(i, np.mean(test_losses))\n"
   ]
  },
  {
   "cell_type": "code",
   "execution_count": 6,
   "id": "c7ddfdf1-2eaa-465b-90ff-0cfb1a059904",
   "metadata": {},
   "outputs": [
    {
     "name": "stdout",
     "output_type": "stream",
     "text": [
      "\n",
      " The average rpehe of test data are:  1.1784522819642695 The standard error of epehe in test data are:  0.038954680888623035\n"
     ]
    }
   ],
   "source": [
    "#print the results\n",
    "from scipy.stats import sem\n",
    "results = np.array(test_losses)\n",
    "print(\n",
    "    '\\n The average rpehe of test data are: ',\n",
    "    np.mean(results),\n",
    "    'The standard error of epehe in test data are: ',\n",
    "    sem(results))"
   ]
  }
 ],
 "metadata": {
  "kernelspec": {
   "display_name": "Python 3 (ipykernel)",
   "language": "python",
   "name": "python3"
  },
  "language_info": {
   "codemirror_mode": {
    "name": "ipython",
    "version": 3
   },
   "file_extension": ".py",
   "mimetype": "text/x-python",
   "name": "python",
   "nbconvert_exporter": "python",
   "pygments_lexer": "ipython3",
   "version": "3.9.5"
  }
 },
 "nbformat": 4,
 "nbformat_minor": 5
}
