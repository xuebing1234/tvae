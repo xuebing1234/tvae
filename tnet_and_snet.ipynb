{
 "cells": [
  {
   "cell_type": "code",
   "execution_count": 3,
   "id": "a5692b08-75cc-4773-8173-0f0df2e3c09b",
   "metadata": {},
   "outputs": [],
   "source": [
    "import pandas as pd\n",
    "import numpy as np\n",
    "from tqdm import tqdm\n",
    "path = 'csv_files/' #path of IHDP files, downloaded from https://www.fredjo.com/\n",
    "def processed_data(i):\n",
    "    train_data = pd.read_csv(path+'1000_train'+str(i)+'.csv').values\n",
    "    train_data[:,13] = train_data[:,13]-1 #processing according to CEVAE\n",
    "    test_data = pd.read_csv(path+'1000_test'+str(i)+'.csv').values\n",
    "    test_data[:,13] = test_data[:,13]-1 #processing according to CEVAE\n",
    "    train_label = np.zeros((len(train_data),3))\n",
    "    t= pd.read_csv(path+'1000_train_t'+str(i)+'.csv').values.flatten()\n",
    "    yf = pd.read_csv(path+'1000_train_yf'+str(i)+'.csv').values.flatten()\n",
    "    ycf = pd.read_csv(path+'1000_train_ycf'+str(i)+'.csv').values.flatten()\n",
    "    ite_test = pd.read_csv(path+'1000_test_ite'+str(i)+'.csv').values\n",
    "    return train_data,test_data,t,yf,ite_test\n",
    "    "
   ]
  },
  {
   "cell_type": "code",
   "execution_count": 5,
   "id": "09b82630-2860-4f69-959e-5fabf28c5961",
   "metadata": {},
   "outputs": [
    {
     "data": {
      "application/json": {
       "ascii": false,
       "bar_format": null,
       "colour": null,
       "elapsed": 0.015405654907226562,
       "initial": 0,
       "n": 0,
       "ncols": null,
       "nrows": 24,
       "postfix": null,
       "prefix": "replication",
       "rate": null,
       "total": 1000,
       "unit": "it",
       "unit_divisor": 1000,
       "unit_scale": false
      },
      "application/vnd.jupyter.widget-view+json": {
       "model_id": "c34fe45dd77f4ffd8912f05ae1462178",
       "version_major": 2,
       "version_minor": 0
      },
      "text/plain": [
       "replication:   0%|          | 0/1000 [00:00<?, ?it/s]"
      ]
     },
     "metadata": {},
     "output_type": "display_data"
    },
    {
     "name": "stderr",
     "output_type": "stream",
     "text": [
      "No GPU/TPU found, falling back to CPU. (Set TF_CPP_MIN_LOG_LEVEL=0 and rerun for more info.)\n"
     ]
    }
   ],
   "source": [
    "import pickle\n",
    "import numpy as np\n",
    "from tqdm import tqdm\n",
    "from tqdm.auto import trange\n",
    "from catenets.models.jax import TNet, SNet\n",
    "from sklearn.metrics import mean_squared_error \n",
    "t_rmse = []\n",
    "s_rmse = []\n",
    "t = TNet()\n",
    "s = SNet(penalty_orthogonal=0.01)\n",
    "for i in trange(1000, position=0, desc=\"replication\", leave=True, colour='black',):\n",
    "    train_data,test_data,w,y,ite_test = processed_data(i)  \n",
    "    t.fit(train_data, y, w)\n",
    "    ite_preds = t.predict(test_data, return_po=False)  # predict potential outcomes too\n",
    "\n",
    "    t_rmse.append(mean_squared_error(ite_preds, ite_test)**0.5)\n",
    "    s.fit(train_data, y, w)\n",
    "    ite_preds = s.predict(test_data, return_po=False)  # predict potential outcomes too\n",
    "\n",
    "    s_rmse.append(mean_squared_error(ite_preds, ite_test)**0.5)"
   ]
  },
  {
   "cell_type": "code",
   "execution_count": 6,
   "id": "69d1651b-f2c3-4fce-b100-846564656f40",
   "metadata": {},
   "outputs": [
    {
     "name": "stdout",
     "output_type": "stream",
     "text": [
      "\n",
      " The average rpehe of test data are:  1.769540510248449 The standard error of epehe in test data are:  0.05425740595199925\n"
     ]
    }
   ],
   "source": [
    "#print the results\n",
    "from scipy.stats import sem\n",
    "results = np.array(t_rmse)\n",
    "print(\n",
    "    '\\n The average rpehe of test data are: ',\n",
    "    np.mean(results),\n",
    "    'The standard error of epehe in test data are: ',\n",
    "    sem(results))"
   ]
  },
  {
   "cell_type": "code",
   "execution_count": 7,
   "id": "2252b129-3753-4056-9b47-8239e57d767b",
   "metadata": {},
   "outputs": [
    {
     "name": "stdout",
     "output_type": "stream",
     "text": [
      "\n",
      " The average rpehe of test data are:  1.2871888543948293 The standard error of epehe in test data are:  0.03902574670749591\n"
     ]
    }
   ],
   "source": [
    "#print the results\n",
    "results = np.array(s_rmse)\n",
    "print(\n",
    "    '\\n The average rpehe of test data are: ',\n",
    "    np.mean(results),\n",
    "    'The standard error of epehe in test data are: ',\n",
    "    sem(results))"
   ]
  }
 ],
 "metadata": {
  "kernelspec": {
   "display_name": "Python 3 (ipykernel)",
   "language": "python",
   "name": "python3"
  },
  "language_info": {
   "codemirror_mode": {
    "name": "ipython",
    "version": 3
   },
   "file_extension": ".py",
   "mimetype": "text/x-python",
   "name": "python",
   "nbconvert_exporter": "python",
   "pygments_lexer": "ipython3",
   "version": "3.9.5"
  }
 },
 "nbformat": 4,
 "nbformat_minor": 5
}
